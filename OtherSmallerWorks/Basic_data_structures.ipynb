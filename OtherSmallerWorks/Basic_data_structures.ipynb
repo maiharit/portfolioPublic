{
 "cells": [
  {
   "cell_type": "markdown",
   "metadata": {},
   "source": [
    "# This is Final Project for Data Structures and Algorithms\n",
    "\n",
    "Project Deliverables:\n",
    "\n",
    "   -  Python code implementing basic data structures and algorithms including trees (binary trees, binary search trees, balanced trees) and hash tables.\n",
    "   -  Documentation providing detailed explanations of the implemented data structures and algorithms, including design principles, functionalities, and usage examples, in Python.\n",
    "   -  Test cases and validation reports demonstrating the correctness and effectiveness of implemented solutions, covering various scenarios and edge cases, in Python.\n",
    "   -  Performance analysis report comparing the time complexity and space complexity of different algorithms in Python, evaluating their efficiency and performance characteristics.\n",
    "   -  Presentation slides summarizing key findings, challenges faced, and lessons learned during the project, using Python.\n"
   ]
  },
  {
   "cell_type": "markdown",
   "metadata": {},
   "source": [
    "Project Title: Implementation of Essential Data Structures and Algorithms in Python \n",
    "\n",
    "Implement basic data structures including arrays, linked lists, stacks, and queues as well as trees (binary trees, binary search trees, and balanced trees) and hash tables in Python. "
   ]
  },
  {
   "cell_type": "code",
   "execution_count": 170,
   "metadata": {},
   "outputs": [],
   "source": [
    "import random\n",
    "import timeit"
   ]
  },
  {
   "cell_type": "code",
   "execution_count": 171,
   "metadata": {},
   "outputs": [],
   "source": [
    "# Defines a basic node for a binary tree\n",
    "class TreeNode:\n",
    "    def __init__(self, key):\n",
    "        self.key = key\n",
    "        self.left = None\n",
    "        self.right = None\n",
    "\n",
    "class BinaryTree:\n",
    "    def __init__(self):\n",
    "        self.root = None\n",
    "\n",
    "# Inserts a key into the tree\n",
    "    def insert(self, key):\n",
    "        if not self.root:\n",
    "            self.root = TreeNode(key)\n",
    "        else:\n",
    "            self._insert(self.root, key)\n",
    "\n",
    "# Insert a key at the appropriate position in the tree\n",
    "    def _insert(self, node, key):\n",
    "        if not node.left:\n",
    "            node.left = TreeNode(key)\n",
    "        elif not node.right:\n",
    "            node.right = TreeNode(key)\n",
    "        else:\n",
    "            self._insert(node.left, key)\n",
    "\n",
    "class BinarySearchTree:\n",
    "    def __init__(self):\n",
    "        self.root = None\n",
    "\n",
    "    def insert(self, key):\n",
    "        if not self.root:\n",
    "            self.root = TreeNode(key)\n",
    "        else:\n",
    "            self._insert(self.root, key)\n",
    "\n",
    "    def _insert(self, node, key):\n",
    "        if key < node.key:\n",
    "            if node.left is None:\n",
    "                node.left = TreeNode(key)\n",
    "            else:\n",
    "                self._insert(node.left, key)\n",
    "        else:\n",
    "            if node.right is None:\n",
    "                node.right = TreeNode(key)\n",
    "            else:\n",
    "                self._insert(node.right, key)\n",
    "\n",
    "    def search(self, key):\n",
    "        return self._search(self.root, key)\n",
    "\n",
    "    def _search(self, node, key):\n",
    "        if node is None or node.key == key:\n",
    "            return node\n",
    "        if key < node.key:\n",
    "            return self._search(node.left, key)\n",
    "        else:\n",
    "            return self._search(node.right, key)\n",
    "\n",
    "# Perform an inorder traversal of the tree\n",
    "    def inorder_traversal(self):\n",
    "        return self._inorder_traversal(self.root)\n",
    "\n",
    "    def _inorder_traversal(self, node):\n",
    "        if node is None:\n",
    "            return []\n",
    "        return self._inorder_traversal(node.left) + [node.key] + self._inorder_traversal(node.right)"
   ]
  },
  {
   "cell_type": "code",
   "execution_count": 172,
   "metadata": {},
   "outputs": [],
   "source": [
    "class HashTable:\n",
    "    def __init__(self, size):\n",
    "        self.size = size\n",
    "        self.table = [[] for _ in range(size)]\n",
    "\n",
    "    def _hash(self, key):\n",
    "        return hash(key) % self.size\n",
    "\n",
    "    def insert(self, key, value):\n",
    "        index = self._hash(key)\n",
    "        self.table[index].append((key, value))\n",
    "\n",
    "    def search(self, key):\n",
    "        index = self._hash(key)\n",
    "        for k, v in self.table[index]:\n",
    "            if k == key:\n",
    "                return v\n",
    "        return None\n",
    "\n",
    "    def delete(self, key):\n",
    "        index = self._hash(key)\n",
    "        for i, (k, v) in enumerate(self.table[index]):\n",
    "            if k == key:\n",
    "                del self.table[index][i]\n",
    "                return"
   ]
  },
  {
   "cell_type": "code",
   "execution_count": 173,
   "metadata": {},
   "outputs": [],
   "source": [
    "\n",
    "\n",
    "class AVLTreeNode:\n",
    "    def __init__(self, key):\n",
    "        self.key = key\n",
    "        self.left = None\n",
    "        self.right = None\n",
    "        self.height = 1\n",
    "\n",
    "class AVLTree:\n",
    "    def __init__(self):\n",
    "        self.root = None\n",
    "\n",
    "\n",
    "# Returns the height of a given node. If the node is None, it returns 0. Otherwise, it returns the height of the node\n",
    "    def _height(self, node):\n",
    "        if node is None:\n",
    "            return 0\n",
    "        return node.height\n",
    "\n",
    "    def _update_height(self, node):\n",
    "        node.height = max(self._height(node.left), self._height(node.right)) + 1\n",
    "\n",
    "\n",
    "# Calculates the balance factor of a given node\n",
    "    def _balance(self, node):\n",
    "        if node is None:\n",
    "            return 0\n",
    "        return self._height(node.left) - self._height(node.right)\n",
    "\n",
    "\n",
    "# Performs a left rotation on a given node\n",
    "    def _rotate_left(self, z):\n",
    "        y = z.right\n",
    "        T2 = y.left\n",
    "\n",
    "        y.left = z\n",
    "        z.right = T2\n",
    "\n",
    "        self._update_height(z)\n",
    "        self._update_height(y)\n",
    "\n",
    "        return y\n",
    "\n",
    "    def _rotate_right(self, y):\n",
    "        x = y.left\n",
    "        T2 = x.right\n",
    "\n",
    "        x.right = y\n",
    "        y.left = T2\n",
    "\n",
    "        self._update_height(y)\n",
    "        self._update_height(x)\n",
    "\n",
    "        return x\n",
    "\n",
    "    def insert(self, key):\n",
    "        self.root = self._insert(self.root, key)\n",
    "\n",
    "    def _insert(self, node, key):\n",
    "        if node is None:\n",
    "            return AVLTreeNode(key)\n",
    "        if key < node.key:\n",
    "            node.left = self._insert(node.left, key)\n",
    "        else:\n",
    "            node.right = self._insert(node.right, key)\n",
    "\n",
    "        self._update_height(node)\n",
    "\n",
    "        balance = self._balance(node)\n",
    "\n",
    "        if balance > 1 and key < node.left.key:\n",
    "            return self._rotate_right(node)\n",
    "\n",
    "        if balance < -1 and key > node.right.key:\n",
    "            return self._rotate_left(node)\n",
    "\n",
    "        if balance > 1 and key > node.left.key:\n",
    "            node.left = self._rotate_left(node.left)\n",
    "            return self._rotate_right(node)\n",
    "\n",
    "        if balance < -1 and key < node.right.key:\n",
    "            node.right = self._rotate_right(node.right)\n",
    "            return self._rotate_left(node)\n",
    "\n",
    "        return node\n",
    "    \n",
    "    def inorder_traversal(self):\n",
    "        return self._inorder_traversal(self.root)\n",
    "\n",
    "    def _inorder_traversal(self, node):\n",
    "        if node is None:\n",
    "            return []\n",
    "        return self._inorder_traversal(node.left) + [node.key] + self._inorder_traversal(node.right)\n",
    "\n",
    "\n",
    "\n",
    "\n",
    "\n",
    "\n"
   ]
  },
  {
   "cell_type": "code",
   "execution_count": 191,
   "metadata": {},
   "outputs": [
    {
     "name": "stdout",
     "output_type": "stream",
     "text": [
      "Key 50 found: 50\n",
      "Key 20 found: 20\n",
      "Key 100 not found: None\n",
      "Inorder traversal: [20, 30, 40, 50, 60, 70, 80]\n",
      "\n",
      "Time complexy:\n",
      "174 ns ± 5.66 ns per loop (mean ± std. dev. of 7 runs, 1,000,000 loops each)\n",
      "2.67 µs ± 90.6 ns per loop (mean ± std. dev. of 7 runs, 100,000 loops each)\n"
     ]
    }
   ],
   "source": [
    "# Test cases for BinarySearchTree\n",
    "\n",
    "bst = BinarySearchTree()\n",
    "keys = [50, 30, 70, 20, 40, 60, 80]\n",
    "\n",
    "for key in keys:\n",
    "    bst.insert(key)\n",
    "\n",
    "print(\"Key 50 found:\", bst.search(50).key)\n",
    "print(\"Key 20 found:\", bst.search(20).key)\n",
    "print(\"Key 100 not found:\", bst.search(100))\n",
    "\n",
    "print(\"Inorder traversal:\", bst.inorder_traversal())\n",
    "\n",
    "print(f'\\nTime complexy:')\n",
    "%timeit bst.search(50)\n",
    "%timeit bst.inorder_traversal()\n",
    "\n"
   ]
  },
  {
   "cell_type": "code",
   "execution_count": 175,
   "metadata": {},
   "outputs": [
    {
     "name": "stdout",
     "output_type": "stream",
     "text": [
      "Root key: 50\n",
      "Left child key: 30\n",
      "Right child key: 70\n",
      "Inorder traversal: [20, 30, 40, 50, 60, 70, 80]\n",
      "\n",
      "Time complexy:\n",
      "2.6 µs ± 64.9 ns per loop (mean ± std. dev. of 7 runs, 100,000 loops each)\n"
     ]
    }
   ],
   "source": [
    "# Test cases for AVLTree\n",
    "\n",
    "avl = AVLTree()\n",
    "\n",
    "for key in keys:\n",
    "    avl.insert(key)\n",
    "\n",
    "# Check root and children\n",
    "print(\"Root key:\", avl.root.key)\n",
    "print(\"Left child key:\", avl.root.left.key)\n",
    "print(\"Right child key:\", avl.root.right.key)\n",
    "\n",
    "# Inorder traversal\n",
    "print(\"Inorder traversal:\", avl.inorder_traversal())\n",
    "\n",
    "print(f'\\nTime complexy:')\n",
    "%timeit avl.inorder_traversal()\n",
    "%timeit avl.root.left.key\n",
    "\n"
   ]
  },
  {
   "cell_type": "code",
   "execution_count": 176,
   "metadata": {},
   "outputs": [
    {
     "name": "stdout",
     "output_type": "stream",
     "text": [
      "Search results:\n",
      "Key 'a': 1\n",
      "Key 'b': 2\n",
      "Key 'c': 3\n",
      "Key 'd': None\n",
      "After deleting key 'a':\n",
      "Key 'a': None\n",
      "\n",
      "Time complexy:\n",
      "329 ns ± 58.4 ns per loop (mean ± std. dev. of 7 runs, 1,000,000 loops each)\n",
      "320 ns ± 3.51 ns per loop (mean ± std. dev. of 7 runs, 1,000,000 loops each)\n"
     ]
    }
   ],
   "source": [
    "# Test cases for HashTable\n",
    "\n",
    "ht = HashTable(10)\n",
    "ht.insert('a', 1)\n",
    "ht.insert('b', 2)\n",
    "ht.insert('c', 3)\n",
    "\n",
    "print(\"Search results:\")\n",
    "print(\"Key 'a':\", ht.search('a'))\n",
    "print(\"Key 'b':\", ht.search('b'))\n",
    "print(\"Key 'c':\", ht.search('c'))\n",
    "print(\"Key 'd':\", ht.search('d'))\n",
    "\n",
    "ht.delete('a')\n",
    "\n",
    "print(\"After deleting key 'a':\")\n",
    "print(\"Key 'a':\", ht.search('a'))\n",
    "\n",
    "print(f'\\nTime complexy:')\n",
    "%timeit ht.search('a')\n",
    "%timeit ht.delete('a')"
   ]
  },
  {
   "cell_type": "code",
   "execution_count": 177,
   "metadata": {},
   "outputs": [
    {
     "name": "stdout",
     "output_type": "stream",
     "text": [
      "Node key: 10\n",
      "Left child key: 5\n",
      "Right child key: 15\n",
      "\n",
      "Time complexy:\n",
      "196 ns ± 1.14 ns per loop (mean ± std. dev. of 7 runs, 1,000,000 loops each)\n"
     ]
    }
   ],
   "source": [
    "# Test cases for TreeNode\n",
    "\n",
    "node = TreeNode(10)\n",
    "print(\"Node key:\", node.key)\n",
    "\n",
    "# Create child nodes\n",
    "left_child = TreeNode(5)\n",
    "right_child = TreeNode(15)\n",
    "\n",
    "# Assign child nodes\n",
    "node.left = left_child\n",
    "node.right = right_child\n",
    "\n",
    "# Check the children of the node\n",
    "print(\"Left child key:\", node.left.key)\n",
    "print(\"Right child key:\", node.right.key)\n",
    "\n",
    "print(f'\\nTime complexy:')\n",
    "%timeit TreeNode(10)\n"
   ]
  },
  {
   "cell_type": "code",
   "execution_count": 178,
   "metadata": {},
   "outputs": [
    {
     "name": "stdout",
     "output_type": "stream",
     "text": [
      "Root key: 10\n",
      "Left child key: 5\n",
      "Right child key: 15\n"
     ]
    }
   ],
   "source": [
    "# Test cases for BinaryTree\n",
    "\n",
    "# Create a binary tree\n",
    "tree = BinaryTree()\n",
    "\n",
    "# Insert keys into the tree\n",
    "tree.insert(10)\n",
    "tree.insert(5)\n",
    "tree.insert(15)\n",
    "\n",
    "# Check the structure of the tree\n",
    "print(\"Root key:\", tree.root.key)\n",
    "print(\"Left child key:\", tree.root.left.key)\n",
    "print(\"Right child key:\", tree.root.right.key)\n",
    "\n"
   ]
  },
  {
   "cell_type": "code",
   "execution_count": null,
   "metadata": {},
   "outputs": [],
   "source": []
  },
  {
   "cell_type": "code",
   "execution_count": 179,
   "metadata": {},
   "outputs": [
    {
     "name": "stdout",
     "output_type": "stream",
     "text": [
      "Left child key: 5\n",
      "Right child key: 15\n",
      "AVL node height: 1\n",
      "\n",
      "Time complexy:\n",
      "207 ns ± 6.25 ns per loop (mean ± std. dev. of 7 runs, 1,000,000 loops each)\n",
      "211 ns ± 5.09 ns per loop (mean ± std. dev. of 7 runs, 1,000,000 loops each)\n"
     ]
    }
   ],
   "source": [
    "\n",
    "\n",
    "# Test cases for AVLTreeNode\n",
    "\n",
    "# Create an AVL tree node with key 10\n",
    "avl_node = AVLTreeNode(10)\n",
    "\n",
    "# Create child nodes\n",
    "left_child = AVLTreeNode(5)\n",
    "right_child = AVLTreeNode(15)\n",
    "\n",
    "# Assign child nodes\n",
    "avl_node.left = left_child\n",
    "avl_node.right = right_child\n",
    "\n",
    "# Check the children of the AVL node\n",
    "print(\"Left child key:\", avl_node.left.key)\n",
    "print(\"Right child key:\", avl_node.right.key)\n",
    "\n",
    "# Check the initial height of the AVL node\n",
    "print(\"AVL node height:\", avl_node.height)\n",
    "\n",
    "print(f'\\nTime complexy:')\n",
    "%timeit AVLTreeNode(10)\n",
    "%timeit avl_node = AVLTreeNode(10)"
   ]
  },
  {
   "cell_type": "markdown",
   "metadata": {},
   "source": [
    "2. Implement fundamental algorithms such as sorting algorithms (e.g., Bubble Sort, Insertion Sort, Merge Sort), searching algorithms (e.g., Linear Search, Binary Search), and tree traversal algorithms (e.g., in-order traversal, pre-order traversal, post-order traversal) in Python."
   ]
  },
  {
   "cell_type": "code",
   "execution_count": 180,
   "metadata": {},
   "outputs": [],
   "source": [
    "# Bubble short\n",
    "\n",
    "def bubble_sort(arr):\n",
    "    n = len(arr)\n",
    "    for i in range(n):\n",
    "        for j in range(0, n-i-1):\n",
    "            if arr[j] > arr[j+1]:\n",
    "                arr[j], arr[j+1] = arr[j+1], arr[j]\n"
   ]
  },
  {
   "cell_type": "code",
   "execution_count": 181,
   "metadata": {},
   "outputs": [],
   "source": [
    "# Insertion Sort\n",
    "\n",
    "def insertion_sort(arr):\n",
    "    for i in range(1, len(arr)):\n",
    "        key = arr[i]\n",
    "        j = i-1\n",
    "        while j >= 0 and key < arr[j]:\n",
    "            arr[j + 1] = arr[j]\n",
    "            j -= 1\n",
    "        arr[j + 1] = key\n"
   ]
  },
  {
   "cell_type": "code",
   "execution_count": 182,
   "metadata": {},
   "outputs": [],
   "source": [
    "# Merge Sort\n",
    "\n",
    "def merge_sort(arr):\n",
    "    if len(arr) > 1:\n",
    "        mid = len(arr) // 2\n",
    "        L = arr[:mid]\n",
    "        R = arr[mid:]\n",
    "\n",
    "        merge_sort(L)\n",
    "        merge_sort(R)\n",
    "\n",
    "        i = j = k = 0\n",
    "\n",
    "        while i < len(L) and j < len(R):\n",
    "            if L[i] < R[j]:\n",
    "                arr[k] = L[i]\n",
    "                i += 1\n",
    "            else:\n",
    "                arr[k] = R[j]\n",
    "                j += 1\n",
    "            k += 1\n",
    "\n",
    "        while i < len(L):\n",
    "            arr[k] = L[i]\n",
    "            i += 1\n",
    "            k += 1\n",
    "\n",
    "        while j < len(R):\n",
    "            arr[k] = R[j]\n",
    "            j += 1\n",
    "            k += 1\n"
   ]
  },
  {
   "cell_type": "code",
   "execution_count": 183,
   "metadata": {},
   "outputs": [],
   "source": [
    "# Linear Search\n",
    "\n",
    "def linear_search(arr, x):\n",
    "    for i in range(len(arr)):\n",
    "        if arr[i] == x:\n",
    "            return i\n",
    "    return -1\n"
   ]
  },
  {
   "cell_type": "code",
   "execution_count": 184,
   "metadata": {},
   "outputs": [],
   "source": [
    "# Binary Search\n",
    "\n",
    "def binary_search(arr, x):\n",
    "    low = 0\n",
    "    high = len(arr) - 1\n",
    "    mid = 0\n",
    "\n",
    "    while low <= high:\n",
    "        mid = (high + low) // 2\n",
    "\n",
    "        if arr[mid] < x:\n",
    "            low = mid + 1\n",
    "        elif arr[mid] > x:\n",
    "            high = mid - 1\n",
    "        else:\n",
    "            return mid\n",
    "    return -1\n"
   ]
  },
  {
   "cell_type": "code",
   "execution_count": 185,
   "metadata": {},
   "outputs": [
    {
     "name": "stdout",
     "output_type": "stream",
     "text": [
      "Sorted array is: [11, 12, 22, 25, 34, 64, 90]\n",
      "\n",
      "Time complexy:\n"
     ]
    },
    {
     "name": "stdout",
     "output_type": "stream",
     "text": [
      "2.26 µs ± 59.7 ns per loop (mean ± std. dev. of 7 runs, 100,000 loops each)\n"
     ]
    }
   ],
   "source": [
    "# Test the bubble sort function\n",
    "arr = [64, 34, 25, 12, 22, 11, 90]\n",
    "bubble_sort(arr)\n",
    "print(\"Sorted array is:\", arr)\n",
    "\n",
    "print(f'\\nTime complexy:')\n",
    "%timeit bubble_sort(arr)"
   ]
  },
  {
   "cell_type": "code",
   "execution_count": 186,
   "metadata": {},
   "outputs": [
    {
     "name": "stdout",
     "output_type": "stream",
     "text": [
      "Sorted array: [-3, -2, -1, 0, 1, 2, 3]\n",
      "\n",
      "Time complexy:\n",
      "670 ns ± 19.8 ns per loop (mean ± std. dev. of 7 runs, 1,000,000 loops each)\n"
     ]
    }
   ],
   "source": [
    "# Test case for insertion sort\n",
    "arr = [3, 1, -2, 0, -1, 2, -3]\n",
    "insertion_sort(arr)\n",
    "print(\"Sorted array:\", arr)\n",
    "\n",
    "print(f'\\nTime complexy:')\n",
    "%timeit insertion_sort(arr)"
   ]
  },
  {
   "cell_type": "code",
   "execution_count": 187,
   "metadata": {},
   "outputs": [
    {
     "name": "stdout",
     "output_type": "stream",
     "text": [
      "Sorted array: [-13, -7, 5, 6, 11, 12]\n",
      "\n",
      "Time complexy:\n",
      "4.03 µs ± 497 ns per loop (mean ± std. dev. of 7 runs, 100,000 loops each)\n"
     ]
    }
   ],
   "source": [
    "# Test case for merge sort\n",
    "arr = [12, 11, -13, 5, 6, -7]\n",
    "merge_sort(arr)\n",
    "print(\"Sorted array:\", arr)\n",
    "\n",
    "print(f'\\nTime complexy:')\n",
    "%timeit merge_sort(arr)"
   ]
  },
  {
   "cell_type": "code",
   "execution_count": 188,
   "metadata": {},
   "outputs": [
    {
     "name": "stdout",
     "output_type": "stream",
     "text": [
      "Element found at index 3\n",
      "\n",
      "Time complexy:\n",
      "321 ns ± 7.31 ns per loop (mean ± std. dev. of 7 runs, 1,000,000 loops each)\n"
     ]
    }
   ],
   "source": [
    "# Test case for linear search\n",
    "arr = [10, 23, 45, 70, 11, 15]\n",
    "x = 70\n",
    "index = linear_search(arr, x)\n",
    "\n",
    "if index != -1:\n",
    "    print(f\"Element found at index {index}\")\n",
    "else:\n",
    "    print(\"Element not found in the array\")\n",
    "\n",
    "print(f'\\nTime complexy:')\n",
    "%timeit linear_search(arr, x)"
   ]
  },
  {
   "cell_type": "code",
   "execution_count": 189,
   "metadata": {},
   "outputs": [
    {
     "name": "stdout",
     "output_type": "stream",
     "text": [
      "Element found at index 4\n",
      "\n",
      "Time complexy:\n",
      "339 ns ± 6.49 ns per loop (mean ± std. dev. of 7 runs, 1,000,000 loops each)\n"
     ]
    }
   ],
   "source": [
    "# Test case for binary search\n",
    "arr = [-30, -10, 0, 5, 9, 23, 34, 50]\n",
    "x = 9\n",
    "index = binary_search(arr, x)\n",
    "\n",
    "if index != -1:\n",
    "    print(f\"Element found at index {index}\")\n",
    "else:\n",
    "    print(\"Element not found in the array\")\n",
    "\n",
    "print(f'\\nTime complexy:')\n",
    "\n",
    "%timeit binary_search(arr, x)"
   ]
  },
  {
   "cell_type": "code",
   "execution_count": null,
   "metadata": {},
   "outputs": [],
   "source": []
  },
  {
   "cell_type": "markdown",
   "metadata": {},
   "source": []
  }
 ],
 "metadata": {
  "kernelspec": {
   "display_name": "Python 3 (ipykernel)",
   "language": "python",
   "name": "python3"
  },
  "language_info": {
   "codemirror_mode": {
    "name": "ipython",
    "version": 3
   },
   "file_extension": ".py",
   "mimetype": "text/x-python",
   "name": "python",
   "nbconvert_exporter": "python",
   "pygments_lexer": "ipython3",
   "version": "3.11.0"
  }
 },
 "nbformat": 4,
 "nbformat_minor": 2
}
