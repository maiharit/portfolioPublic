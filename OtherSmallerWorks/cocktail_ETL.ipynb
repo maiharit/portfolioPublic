{
 "cells": [
  {
   "cell_type": "code",
   "execution_count": 85,
   "metadata": {},
   "outputs": [],
   "source": [
    "import pandas as pd\n",
    "import numpy as np\n",
    "import psycopg2, kaggle, sqlalchemy\n",
    "import matplotlib.pyplot as plt\n",
    "\n",
    "from kaggle.api.kaggle_api_extended import KaggleApi"
   ]
  },
  {
   "cell_type": "code",
   "execution_count": 86,
   "metadata": {},
   "outputs": [],
   "source": [
    "# Extract\n",
    "api = KaggleApi()\n",
    "api.authenticate()"
   ]
  },
  {
   "cell_type": "code",
   "execution_count": 87,
   "metadata": {},
   "outputs": [
    {
     "data": {
      "text/plain": [
       "False"
      ]
     },
     "execution_count": 87,
     "metadata": {},
     "output_type": "execute_result"
    }
   ],
   "source": [
    "# Download\n",
    "\n",
    "# Standalone dataset\n",
    "api.dataset_download_file('pruthvinavada/popular-cocktails',file_name='popular_cocktails.csv')"
   ]
  },
  {
   "cell_type": "code",
   "execution_count": 88,
   "metadata": {},
   "outputs": [],
   "source": [
    "# Set up database\n",
    "dbname = \"assingmentfour\"\n",
    "user = \"postgres\"\n",
    "password = \"Kakkahata666\"\n",
    "host = \"localhost\"\n",
    "\n",
    "# Establish a connection\n",
    "\n",
    "conn = psycopg2.connect(\n",
    "    dbname = dbname,\n",
    "    user = user,\n",
    "    password = password,\n",
    "    host = host\n",
    ")\n",
    "\n",
    "cursor = conn.cursor()\n",
    "conn.autocommit = True\n",
    "sql = '''CREATE DATABASE assingmentfour;'''\n",
    "#cursor.execute(sql)\n",
    "conn.commit()"
   ]
  },
  {
   "cell_type": "code",
   "execution_count": 89,
   "metadata": {},
   "outputs": [],
   "source": [
    "# Transform\n",
    "df = pd.DataFrame(pd.read_csv('popular_cocktails.csv'))"
   ]
  },
  {
   "cell_type": "code",
   "execution_count": 90,
   "metadata": {},
   "outputs": [],
   "source": [
    "# Drop\n",
    "drop_table_query = 'DROP TABLE IF EXISTS cocktails'\n",
    "cursor.execute(drop_table_query)\n",
    "conn.commit()\n"
   ]
  },
  {
   "cell_type": "code",
   "execution_count": 91,
   "metadata": {},
   "outputs": [],
   "source": [
    "# Define the table structure for cocktails table\n",
    "create_table_query= \"\"\"\n",
    "CREATE TABLE cocktails (\n",
    "    idDrink INT PRIMARY KEY,    \n",
    "    strDrink TEXT,    \n",
    "    strDrinkAlternate TEXT,   \n",
    "    strTags TEXT,    \n",
    "    strVideo TEXT,    \n",
    "    strCategory TEXT,    \n",
    "    strIBA TEXT,    \n",
    "    strAlcoholic TEXT,    \n",
    "    strGlass TEXT,    \n",
    "    strInstructions TEXT,    \n",
    "    strInstructionsES TEXT,    \n",
    "    strInstructionsDE TEXT,    \n",
    "    strInstructionsFR TEXT,    \n",
    "    strInstructionsIT TEXT,    \n",
    "    strInstructionsZH_HANS TEXT,    \n",
    "    strInstructionsZH_HANT TEXT,    \n",
    "    strDrinkThumb TEXT,    \n",
    "    strIngredient1 TEXT,    \n",
    "    strIngredient2 TEXT,    \n",
    "    strIngredient3 TEXT,    \n",
    "    strIngredient4 TEXT,    \n",
    "    strIngredient5 TEXT,    \n",
    "    strIngredient6 TEXT,    \n",
    "    strIngredient7 TEXT,    \n",
    "    strIngredient8 TEXT,    \n",
    "    strIngredient9 TEXT,    \n",
    "    strIngredient10 TEXT,    \n",
    "    strIngredient11 TEXT,    \n",
    "    strIngredient12 TEXT,    \n",
    "    strIngredient13 TEXT,    \n",
    "    strIngredient14 TEXT,    \n",
    "    strIngredient15 TEXT,    \n",
    "    strMeasure1 TEXT,    \n",
    "    strMeasure2 TEXT,    \n",
    "    strMeasure3 TEXT,    \n",
    "    strMeasure4 TEXT,    \n",
    "    strMeasure5 TEXT,    \n",
    "    strMeasure6 TEXT,    \n",
    "    strMeasure7 TEXT,    \n",
    "    strMeasure8 TEXT,    \n",
    "    strMeasure9 TEXT,    \n",
    "    strMeasure10 TEXT,    \n",
    "    strMeasure11 TEXT,    \n",
    "    strMeasure12 TEXT,    \n",
    "    strMeasure13 TEXT,    \n",
    "    strMeasure14 TEXT,    \n",
    "    strMeasure15 TEXT,    \n",
    "    strImageSource TEXT,    \n",
    "    strImageAttribution TEXT,    \n",
    "    strCreativeCommonsConfirmed TEXT,    \n",
    "    dateModified TIMESTAMP\n",
    ");\n",
    "\"\"\"\n",
    "\n",
    "# Create cocktails table\n",
    "cursor.execute(create_table_query)\n",
    "conn.commit()"
   ]
  },
  {
   "cell_type": "code",
   "execution_count": 92,
   "metadata": {},
   "outputs": [
    {
     "name": "stderr",
     "output_type": "stream",
     "text": [
      "C:\\Users\\milli\\AppData\\Local\\Temp\\ipykernel_31096\\24740674.py:59: FutureWarning: Series.__getitem__ treating keys as positions is deprecated. In a future version, integer keys will always be treated as labels (consistent with DataFrame behavior). To access a value by position, use `ser.iloc[pos]`\n",
      "  cursor.execute(insert_query, row)\n"
     ]
    },
    {
     "ename": "TypeError",
     "evalue": "not all arguments converted during string formatting",
     "output_type": "error",
     "traceback": [
      "\u001b[1;31m---------------------------------------------------------------------------\u001b[0m",
      "\u001b[1;31mTypeError\u001b[0m                                 Traceback (most recent call last)",
      "Cell \u001b[1;32mIn[92], line 59\u001b[0m\n\u001b[0;32m      2\u001b[0m \u001b[38;5;28;01mfor\u001b[39;00m _, row \u001b[38;5;129;01min\u001b[39;00m df\u001b[38;5;241m.\u001b[39miterrows():\n\u001b[0;32m      3\u001b[0m     insert_query \u001b[38;5;241m=\u001b[39m \u001b[38;5;124m\"\"\"\u001b[39m\n\u001b[0;32m      4\u001b[0m \u001b[38;5;124m    INSERT INTO cocktails (\u001b[39m\n\u001b[0;32m      5\u001b[0m \u001b[38;5;124m        idDrink,    \u001b[39m\n\u001b[1;32m   (...)\u001b[0m\n\u001b[0;32m     57\u001b[0m \u001b[38;5;124m    VALUES (\u001b[39m\u001b[38;5;132;01m%s\u001b[39;00m\u001b[38;5;124m, \u001b[39m\u001b[38;5;132;01m%s\u001b[39;00m\u001b[38;5;124m, \u001b[39m\u001b[38;5;132;01m%s\u001b[39;00m\u001b[38;5;124m, \u001b[39m\u001b[38;5;132;01m%s\u001b[39;00m\u001b[38;5;124m, \u001b[39m\u001b[38;5;132;01m%s\u001b[39;00m\u001b[38;5;124m, \u001b[39m\u001b[38;5;132;01m%s\u001b[39;00m\u001b[38;5;124m, \u001b[39m\u001b[38;5;132;01m%s\u001b[39;00m\u001b[38;5;124m, \u001b[39m\u001b[38;5;132;01m%s\u001b[39;00m\u001b[38;5;124m, \u001b[39m\u001b[38;5;132;01m%s\u001b[39;00m\u001b[38;5;124m, \u001b[39m\u001b[38;5;132;01m%s\u001b[39;00m\u001b[38;5;124m, \u001b[39m\u001b[38;5;132;01m%s\u001b[39;00m\u001b[38;5;124m, \u001b[39m\u001b[38;5;132;01m%s\u001b[39;00m\u001b[38;5;124m, \u001b[39m\u001b[38;5;132;01m%s\u001b[39;00m\u001b[38;5;124m, \u001b[39m\u001b[38;5;132;01m%s\u001b[39;00m\u001b[38;5;124m, \u001b[39m\u001b[38;5;132;01m%s\u001b[39;00m\u001b[38;5;124m, \u001b[39m\u001b[38;5;132;01m%s\u001b[39;00m\u001b[38;5;124m, \u001b[39m\u001b[38;5;132;01m%s\u001b[39;00m\u001b[38;5;124m, \u001b[39m\u001b[38;5;132;01m%s\u001b[39;00m\u001b[38;5;124m, \u001b[39m\u001b[38;5;132;01m%s\u001b[39;00m\u001b[38;5;124m, \u001b[39m\u001b[38;5;132;01m%s\u001b[39;00m\u001b[38;5;124m, \u001b[39m\u001b[38;5;132;01m%s\u001b[39;00m\u001b[38;5;124m, \u001b[39m\u001b[38;5;132;01m%s\u001b[39;00m\u001b[38;5;124m, \u001b[39m\u001b[38;5;132;01m%s\u001b[39;00m\u001b[38;5;124m, \u001b[39m\u001b[38;5;132;01m%s\u001b[39;00m\u001b[38;5;124m, \u001b[39m\u001b[38;5;132;01m%s\u001b[39;00m\u001b[38;5;124m, \u001b[39m\u001b[38;5;132;01m%s\u001b[39;00m\u001b[38;5;124m, \u001b[39m\u001b[38;5;132;01m%s\u001b[39;00m\u001b[38;5;124m, \u001b[39m\u001b[38;5;132;01m%s\u001b[39;00m\u001b[38;5;124m, \u001b[39m\u001b[38;5;132;01m%s\u001b[39;00m\u001b[38;5;124m, \u001b[39m\u001b[38;5;132;01m%s\u001b[39;00m\u001b[38;5;124m, \u001b[39m\u001b[38;5;132;01m%s\u001b[39;00m\u001b[38;5;124m, \u001b[39m\u001b[38;5;132;01m%s\u001b[39;00m\u001b[38;5;124m, \u001b[39m\u001b[38;5;132;01m%s\u001b[39;00m\u001b[38;5;124m, \u001b[39m\u001b[38;5;132;01m%s\u001b[39;00m\u001b[38;5;124m, \u001b[39m\u001b[38;5;132;01m%s\u001b[39;00m\u001b[38;5;124m, \u001b[39m\u001b[38;5;132;01m%s\u001b[39;00m\u001b[38;5;124m, \u001b[39m\u001b[38;5;132;01m%s\u001b[39;00m\u001b[38;5;124m, \u001b[39m\u001b[38;5;132;01m%s\u001b[39;00m\u001b[38;5;124m, \u001b[39m\u001b[38;5;132;01m%s\u001b[39;00m\u001b[38;5;124m, \u001b[39m\u001b[38;5;132;01m%s\u001b[39;00m\u001b[38;5;124m, \u001b[39m\u001b[38;5;132;01m%s\u001b[39;00m\u001b[38;5;124m, \u001b[39m\u001b[38;5;132;01m%s\u001b[39;00m\u001b[38;5;124m, \u001b[39m\u001b[38;5;132;01m%s\u001b[39;00m\u001b[38;5;124m, \u001b[39m\u001b[38;5;132;01m%s\u001b[39;00m\u001b[38;5;124m, \u001b[39m\u001b[38;5;132;01m%s\u001b[39;00m\u001b[38;5;124m, \u001b[39m\u001b[38;5;132;01m%s\u001b[39;00m\u001b[38;5;124m, \u001b[39m\u001b[38;5;132;01m%s\u001b[39;00m\u001b[38;5;124m, \u001b[39m\u001b[38;5;132;01m%s\u001b[39;00m\u001b[38;5;124m, \u001b[39m\u001b[38;5;132;01m%s\u001b[39;00m\u001b[38;5;124m, \u001b[39m\u001b[38;5;132;01m%s\u001b[39;00m\u001b[38;5;124m, \u001b[39m\u001b[38;5;132;01m%s\u001b[39;00m\u001b[38;5;124m)\u001b[39m\n\u001b[0;32m     58\u001b[0m \u001b[38;5;124m    \u001b[39m\u001b[38;5;124m\"\"\"\u001b[39m\n\u001b[1;32m---> 59\u001b[0m     \u001b[43mcursor\u001b[49m\u001b[38;5;241;43m.\u001b[39;49m\u001b[43mexecute\u001b[49m\u001b[43m(\u001b[49m\u001b[43minsert_query\u001b[49m\u001b[43m,\u001b[49m\u001b[43m \u001b[49m\u001b[43mrow\u001b[49m\u001b[43m)\u001b[49m\n\u001b[0;32m     61\u001b[0m conn\u001b[38;5;241m.\u001b[39mcommit()\n\u001b[0;32m     63\u001b[0m cursor\u001b[38;5;241m.\u001b[39mclose()\n",
      "\u001b[1;31mTypeError\u001b[0m: not all arguments converted during string formatting"
     ]
    }
   ],
   "source": [
    "# Insert data from DataFrame into cocktails table\n",
    "for _, row in df.iterrows():\n",
    "    insert_query = \"\"\"\n",
    "    INSERT INTO cocktails (\n",
    "        idDrink,    \n",
    "        strDrink,    \n",
    "        strDrinkAlternate,   \n",
    "        strTags,    \n",
    "        strVideo,    \n",
    "        strCategory,    \n",
    "        strIBA,    \n",
    "        strAlcoholic,    \n",
    "        strGlass,    \n",
    "        strInstructions,    \n",
    "        strInstructionsES,    \n",
    "        strInstructionsDE,    \n",
    "        strInstructionsFR,    \n",
    "        strInstructionsIT,    \n",
    "        strInstructionsZH_HANS,    \n",
    "        strInstructionsZH_HANT,    \n",
    "        strDrinkThumb,    \n",
    "        strIngredient1,    \n",
    "        strIngredient2,    \n",
    "        strIngredient3,    \n",
    "        strIngredient4,    \n",
    "        strIngredient5,    \n",
    "        strIngredient6,    \n",
    "        strIngredient7,    \n",
    "        strIngredient8,    \n",
    "        strIngredient9,    \n",
    "        strIngredient10,    \n",
    "        strIngredient11,    \n",
    "        strIngredient12,    \n",
    "        strIngredient13,    \n",
    "        strIngredient14,    \n",
    "        strIngredient15,    \n",
    "        strMeasure1,    \n",
    "        strMeasure2,    \n",
    "        strMeasure3,    \n",
    "        strMeasure4,    \n",
    "        strMeasure5,    \n",
    "        strMeasure6,    \n",
    "        strMeasure7,    \n",
    "        strMeasure8,    \n",
    "        strMeasure9,    \n",
    "        strMeasure10,    \n",
    "        strMeasure11,    \n",
    "        strMeasure12,    \n",
    "        strMeasure13,    \n",
    "        strMeasure14,    \n",
    "        strMeasure15,    \n",
    "        strImageSource,    \n",
    "        strImageAttribution,    \n",
    "        strCreativeCommonsConfirmed,    \n",
    "        dateModified\n",
    "    ) \n",
    "    VALUES (%s, %s, %s, %s, %s, %s, %s, %s, %s, %s, %s, %s, %s, %s, %s, %s, %s, %s, %s, %s, %s, %s, %s, %s, %s, %s, %s, %s, %s, %s, %s, %s, %s, %s, %s, %s, %s, %s, %s, %s, %s, %s, %s, %s, %s, %s, %s, %s, %s, %s, %s)\n",
    "    \"\"\"\n",
    "    cursor.execute(insert_query, row)\n",
    "\n",
    "conn.commit()\n",
    "\n",
    "cursor.close()\n",
    "conn.close()\n"
   ]
  },
  {
   "cell_type": "markdown",
   "metadata": {},
   "source": []
  }
 ],
 "metadata": {
  "kernelspec": {
   "display_name": "Python 3",
   "language": "python",
   "name": "python3"
  },
  "language_info": {
   "codemirror_mode": {
    "name": "ipython",
    "version": 3
   },
   "file_extension": ".py",
   "mimetype": "text/x-python",
   "name": "python",
   "nbconvert_exporter": "python",
   "pygments_lexer": "ipython3",
   "version": "undefined.undefined.undefined"
  }
 },
 "nbformat": 4,
 "nbformat_minor": 2
}
