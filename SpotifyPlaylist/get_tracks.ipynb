{
 "cells": [
  {
   "cell_type": "code",
   "execution_count": 15,
   "metadata": {},
   "outputs": [
    {
     "ename": "ImportError",
     "evalue": "cannot import name 'search_url' from 'REST_API_JSON' (REST_API_JSON.ipynb)",
     "output_type": "error",
     "traceback": [
      "\u001b[1;31m---------------------------------------------------------------------------\u001b[0m",
      "\u001b[1;31mImportError\u001b[0m                               Traceback (most recent call last)",
      "Cell \u001b[1;32mIn[15], line 4\u001b[0m\n\u001b[0;32m      2\u001b[0m \u001b[38;5;28;01mimport\u001b[39;00m \u001b[38;5;21;01mimport_ipynb\u001b[39;00m\n\u001b[0;32m      3\u001b[0m \u001b[38;5;28;01mimport\u001b[39;00m \u001b[38;5;21;01mjson\u001b[39;00m\n\u001b[1;32m----> 4\u001b[0m \u001b[38;5;28;01mfrom\u001b[39;00m \u001b[38;5;21;01mREST_API_JSON\u001b[39;00m \u001b[38;5;28;01mimport\u001b[39;00m access_token, search_url,tracks_info\n",
      "\u001b[1;31mImportError\u001b[0m: cannot import name 'search_url' from 'REST_API_JSON' (REST_API_JSON.ipynb)"
     ]
    }
   ],
   "source": [
    "import requests\n",
    "import import_ipynb\n",
    "import json\n",
    "from REST_API_JSON import access_token, search_url,tracks_info"
   ]
  },
  {
   "cell_type": "code",
   "execution_count": null,
   "metadata": {},
   "outputs": [],
   "source": [
    "artist = 'Wage war'\n",
    "track = 'Manic'\n",
    "album = 'Manic'"
   ]
  },
  {
   "cell_type": "code",
   "execution_count": null,
   "metadata": {},
   "outputs": [
    {
     "ename": "IndentationError",
     "evalue": "expected an indented block after 'with' statement on line 29 (166005107.py, line 30)",
     "output_type": "error",
     "traceback": [
      "\u001b[1;36m  Cell \u001b[1;32mIn[12], line 30\u001b[1;36m\u001b[0m\n\u001b[1;33m    json.dump(tracks_info, json_file, indent=4)\u001b[0m\n\u001b[1;37m    ^\u001b[0m\n\u001b[1;31mIndentationError\u001b[0m\u001b[1;31m:\u001b[0m expected an indented block after 'with' statement on line 29\n"
     ]
    }
   ],
   "source": [
    "    # Function to search for a song by name, artist, or album\n",
    "\n",
    "def search_song(query)\n",
    "    search_headers = {\n",
    "        'Authorization': f'Bearer {access_token}'\n",
    "    }\n",
    "    search_params = {\n",
    "        'q': query,\n",
    "        'type': 'track',\n",
    "        'limit': 1\n",
    "    }\n",
    "    search_response = requests.get(search_url, headers=search_headers, params=search_params)\n",
    "\n",
    "    if search_response.status_code == 200:\n",
    "        search_data = search_response.json()\n",
    "        if search_data['tracks']['items']:\n",
    "            track_info = search_data['tracks']['items'][0]\n",
    "            track_name = track_info['name']\n",
    "            artists = [artist['name'] for artist in track_info['artists']]\n",
    "            track_id = track_info['id']\n",
    "            print(f'Song found - Name: {track_name}, Artists: {artists}, ID: {track_id}')\n",
    "        else:\n",
    "            print('Song not found.')\n",
    "    else:\n",
    "        print(f'Error: Unable to search for the song. Status code: {search_response.status_code}')\n",
    "\n",
    "    # Example usage of search_song function\n",
    "search_query = input(\"Enter song name, artist, or album to search: \")\n",
    "search_song(search_query)\n",
    "\n",
    "with open('playlist_data.json', 'w') as json_file:\n",
    "    json.dump(tracks_info, json_file, indent=4)\n",
    "    print(\"Playlist data saved to playlist_data.json\")\n",
    "\n"
   ]
  }
 ],
 "metadata": {
  "kernelspec": {
   "display_name": "Python 3",
   "language": "python",
   "name": "python3"
  },
  "language_info": {
   "codemirror_mode": {
    "name": "ipython",
    "version": 3
   },
   "file_extension": ".py",
   "mimetype": "text/x-python",
   "name": "python",
   "nbconvert_exporter": "python",
   "pygments_lexer": "ipython3",
   "version": "3.11.0"
  }
 },
 "nbformat": 4,
 "nbformat_minor": 2
}
